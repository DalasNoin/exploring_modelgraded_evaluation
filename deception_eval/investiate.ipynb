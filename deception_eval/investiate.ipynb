{
 "cells": [
  {
   "cell_type": "code",
   "execution_count": 1,
   "metadata": {},
   "outputs": [],
   "source": [
    "jsonl = \"230702082746LC55CC3C_gpt-3.5-turbo_deception-simon.jsonl\"\n",
    "# load the jsonl file\n",
    "import json\n",
    "with open(jsonl, \"r\") as f:\n",
    "    data = f.readlines()\n",
    "# convert the jsonl file to a list of dictionaries\n",
    "data = [json.loads(line) for line in data]\n"
   ]
  },
  {
   "cell_type": "code",
   "execution_count": 6,
   "metadata": {},
   "outputs": [],
   "source": [
    "# drop what contains the key 'final_report'\n",
    "data = [d for d in data if 'final_report' not in d.keys()]\n",
    "# only keep those containing 'type': 'sampling'\n",
    "data = [d for d in data if 'type' in d and d['type'] == 'sampling']"
   ]
  },
  {
   "cell_type": "code",
   "execution_count": 9,
   "metadata": {},
   "outputs": [],
   "source": [
    "# only keep elements where 'data': {'prompt': [{'role': 'system'}]}\n",
    "data = [d for d in data if 'data' in d and 'prompt' in d['data'] and len(d['data']['prompt']) > 0 and 'role' in d['data']['prompt'][0] and d['data']['prompt'][0]['role'] == 'system']\n",
    "\n",
    "completions = []\n",
    "for d in data:\n",
    "    completions += d['data']['sampled'][0]"
   ]
  },
  {
   "cell_type": "code",
   "execution_count": null,
   "metadata": {},
   "outputs": [],
   "source": [
    "def get_completion_text(completion_jsonl):\n",
    "    # load the jsonl file\n",
    "    import json\n",
    "    with open(jsonl, \"r\") as f:\n",
    "        data = f.readlines()\n",
    "    # convert the jsonl file to a list of dictionaries\n",
    "    data = [json.loads(line) for line in data]\n",
    "    # drop what contains the key 'final_report'\n",
    "    data = [d for d in data if 'final_report' not in d.keys()]\n",
    "    # only keep those containing 'type': 'sampling'\n",
    "    data = [d for d in data if 'type' in d and d['type'] == 'sampling']\n",
    "    # only keep elements where 'data': {'prompt': [{'role': 'system'}]}\n",
    "    data = [d for d in data if 'data' in d and 'prompt' in d['data'] and len(d['data']['prompt']) > 0 and 'role' in d['data']['prompt'][0] and d['data']['prompt'][0]['role'] == 'system']\n",
    "\n",
    "    completions = []\n",
    "    for d in data:\n",
    "        completions += d['data']['sampled'][0]\n",
    "    return completions"
   ]
  }
 ],
 "metadata": {
  "kernelspec": {
   "display_name": "openai_evals",
   "language": "python",
   "name": "python3"
  },
  "language_info": {
   "codemirror_mode": {
    "name": "ipython",
    "version": 3
   },
   "file_extension": ".py",
   "mimetype": "text/x-python",
   "name": "python",
   "nbconvert_exporter": "python",
   "pygments_lexer": "ipython3",
   "version": "3.10.11"
  },
  "orig_nbformat": 4
 },
 "nbformat": 4,
 "nbformat_minor": 2
}
